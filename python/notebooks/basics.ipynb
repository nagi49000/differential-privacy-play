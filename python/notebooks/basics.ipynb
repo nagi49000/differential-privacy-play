{
 "cells": [
  {
   "cell_type": "code",
   "execution_count": 14,
   "metadata": {},
   "outputs": [],
   "source": [
    "import numpy as np\n",
    "import pandas as pd\n",
    "import random\n",
    "import seaborn as sns\n",
    "import matplotlib.pyplot as plt"
   ]
  },
  {
   "cell_type": "markdown",
   "metadata": {},
   "source": [
    "# Differential privacy play\n",
    "\n",
    "### References\n",
    "\n",
    "[1] Dwork, Differential Privacy: A Survey of Results\n",
    "\n",
    "[2] Dwork, Roth, The Algorithmic Foundations of Differential Privacy\n",
    "\n",
    "[3] https://www.apple.com/privacy/docs/Differential_Privacy_Overview.pdf"
   ]
  },
  {
   "cell_type": "markdown",
   "metadata": {},
   "source": [
    "### Definitions\n",
    "\n",
    "Consider a database, $D$, with a function providing a statistic (e.g. an aggregation statistic, or a count of a particular property) $\\mathcal{K}$. One can choose subsets of that database, e.g. $D_1$ and $D_2$ that differ by at most one element; that is $D_1$ is the same as $D_2$, except for one omitted row from either $D_1$ or $D_2$.\n",
    "\n",
    "$\\mathcal{K}$ gives $\\epsilon$-differential privacy if, for all $D_1$, $D_2$ that differ by at most one element, and all $S \\in Range(\\mathcal{K})$, \n",
    "\n",
    "$\\mathbb{P}[\\mathcal{K}(D_1)\\in S] \\leq \\exp (\\epsilon) \\times \\mathbb{P}[\\mathcal{K}(D_2)\\in S]$\n",
    "\n",
    "or equivalently\n",
    "\n",
    "$\\lvert \\log \\mathbb{P}[\\mathcal{K}(D_1)\\in S] - \\log \\mathbb{P}[\\mathcal{K}(D_2)\\in S] \\rvert \\leq \\epsilon$.\n",
    "\n",
    "This means that the results of the statistic are sensitive to a particular row in the database up to a limit $\\epsilon$. If $\\epsilon = 0$, then the statistic is effectively independent of the database (i.e. the data is probably not needed to evaluate $\\mathcal{K}$). Typically, one wishes to work with $\\epsilon$ 'suitably small' for the level of privacy required, e.g. $\\epsilon = 0.1$ or $\\epsilon = 0.01$.\n",
    "\n",
    "In the case that $\\mathcal{K} : D \\rightarrow \\mathbb{R}^n$, one can define the sensitivity of $\\mathcal{K}$, \n",
    "\n",
    "$\\Delta\\mathcal{K} = \\min_{D_1, D_2} || \\mathcal{K}(D_1) - \\mathcal{K}(D_2) ||_1 $.\n",
    "\n",
    "As an example, for any simple counting queries, $\\Delta\\mathcal{K} = 1$."
   ]
  },
  {
   "cell_type": "markdown",
   "metadata": {},
   "source": [
    "### The Laplacian mechanism\n",
    "\n",
    "A way of constructing such a statistic is to add random noise to a deterministic function [1].\n",
    "\n",
    "Given a database, for a statistic, $f:D \\rightarrow \\mathbb{R}$ of known sensitivity, one can construct an $\\epsilon$-differential private function by\n",
    "\n",
    "$\\mathcal{K} = f(X) + n$\n",
    "\n",
    "where $X$ is some subset of $D$, and $n \\sim \\textrm{Laplace}(0, \\Delta f /\\epsilon )$. For instance, consider the count of males or females in a database."
   ]
  },
  {
   "cell_type": "code",
   "execution_count": 2,
   "metadata": {},
   "outputs": [
    {
     "name": "stdout",
     "output_type": "stream",
     "text": [
      "   Gender\n",
      "0       M\n",
      "1       F\n",
      "2       M\n",
      "3       F\n",
      "4       M\n",
      "..    ...\n",
      "75      M\n",
      "76      M\n",
      "77      F\n",
      "78      M\n",
      "79      M\n",
      "\n",
      "[80 rows x 1 columns]\n"
     ]
    }
   ],
   "source": [
    "n_male = 30\n",
    "n_female = 50\n",
    "data = ['M']*n_male + ['F']*n_female\n",
    "random.shuffle(data)\n",
    "df = pd.DataFrame({'Gender': data})\n",
    "print(df)"
   ]
  },
  {
   "cell_type": "code",
   "execution_count": 3,
   "metadata": {},
   "outputs": [
    {
     "name": "stdout",
     "output_type": "stream",
     "text": [
      "50\n"
     ]
    }
   ],
   "source": [
    "def gender_count(df, gender):\n",
    "    return df['Gender'].value_counts().to_dict()[gender]\n",
    "\n",
    "print(gender_count(df, 'F'))"
   ]
  },
  {
   "cell_type": "code",
   "execution_count": 4,
   "metadata": {},
   "outputs": [
    {
     "data": {
      "text/plain": [
       "48.268320596093695"
      ]
     },
     "execution_count": 4,
     "metadata": {},
     "output_type": "execute_result"
    }
   ],
   "source": [
    "def gender_count_private(df, gender, sensitivity, epsilon):\n",
    "    return gender_count(df, gender) + np.random.laplace(scale=sensitivity/epsilon)\n",
    "\n",
    "sensitivity = 1\n",
    "epsilon = 0.1\n",
    "gender_count_private(df, 'F', sensitivity, epsilon)"
   ]
  },
  {
   "cell_type": "markdown",
   "metadata": {},
   "source": [
    "Making $\\epsilon$ smaller increases the noise level. However, a certain privacy level means that only a certain number of calls to the $\\mathcal{K}$ can be made. This is because the subsequent calls can be averaged to get a better estimator of the statistic. In the below example, averaging multiple calls of the query gets a more accurate number on the actual count, making the statistic less private."
   ]
  },
  {
   "cell_type": "code",
   "execution_count": 21,
   "metadata": {},
   "outputs": [
    {
     "data": {
      "text/plain": [
       "Text(0, 0.5, 'estimation of \"count F\"')"
      ]
     },
     "execution_count": 21,
     "metadata": {},
     "output_type": "execute_result"
    },
    {
     "data": {
      "image/png": "[encoded data removed]",
      "text/plain": [
       "<Figure size 432x288 with 1 Axes>"
      ]
     },
     "metadata": {
      "needs_background": "light"
     },
     "output_type": "display_data"
    }
   ],
   "source": [
    "counts = [gender_count_private(df, 'F', sensitivity, epsilon) for _ in range(1000)]\n",
    "running_mean_counts = [np.mean(counts[:x+1]) for x in range(len(counts)) ]\n",
    "\n",
    "plt.figure()\n",
    "sns.scatterplot(data=pd.DataFrame({'mean of counting \"F\" query': running_mean_counts}))\n",
    "plt.title('Estimation of true result of \"count F\" query')\n",
    "plt.xlabel('number of samples in mean')\n",
    "plt.ylabel('estimation of \"count F\"')"
   ]
  },
  {
   "cell_type": "markdown",
   "metadata": {},
   "source": [
    "This leads to the idea of a \"privacy budget\", where the budget, as defined by $\\epsilon$, only allows so many queries the data. For instance, Apple [3] collect user data (key-logging) using differential privacy, and limit to two queries a day per Apple device."
   ]
  }
 ],
 "metadata": {
  "kernelspec": {
   "display_name": "Python 3",
   "language": "python",
   "name": "python3"
  },
  "language_info": {
   "codemirror_mode": {
    "name": "ipython",
    "version": 3
   },
   "file_extension": ".py",
   "mimetype": "text/x-python",
   "name": "python",
   "nbconvert_exporter": "python",
   "pygments_lexer": "ipython3",
   "version": "3.7.8"
  }
 },
 "nbformat": 4,
 "nbformat_minor": 4
}
