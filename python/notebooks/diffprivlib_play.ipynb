{
 "cells": [
  {
   "cell_type": "code",
   "execution_count": 1,
   "metadata": {},
   "outputs": [],
   "source": [
    "import diffprivlib\n",
    "import numpy as np\n",
    "import pandas as pd\n",
    "import random\n",
    "import seaborn as sns\n",
    "import matplotlib.pyplot as plt"
   ]
  },
  {
   "cell_type": "markdown",
   "metadata": {},
   "source": [
    "# IBM differential privacy library\n",
    "\n",
    "The library comes with an MIT license. The library contains notebooks (https://github.com/IBM/differential-privacy-library/blob/main/notebooks/README.md) that demonstrate a number of aspects, including\n",
    "- scikit-learn algos on differentially private data\n",
    "- a BudgetAccountant class to track privacy budget spend across multiple operations\n",
    "\n",
    "### References\n",
    "\n",
    "[1] https://github.com/IBM/differential-privacy-library\n",
    "\n",
    "\n",
    "### Simple examples\n",
    "\n",
    "Consider some simple data, consisting of male and female genders."
   ]
  },
  {
   "cell_type": "code",
   "execution_count": 2,
   "metadata": {},
   "outputs": [
    {
     "name": "stdout",
     "output_type": "stream",
     "text": [
      "   Gender\n",
      "0       M\n",
      "1       M\n",
      "2       M\n",
      "3       F\n",
      "4       F\n",
      "..    ...\n",
      "75      F\n",
      "76      M\n",
      "77      F\n",
      "78      M\n",
      "79      M\n",
      "\n",
      "[80 rows x 1 columns]\n"
     ]
    }
   ],
   "source": [
    "n_male = 30\n",
    "n_female = 50\n",
    "data = ['M']*n_male + ['F']*n_female\n",
    "random.shuffle(data)\n",
    "df = pd.DataFrame({'Gender': data})\n",
    "print(df)"
   ]
  },
  {
   "cell_type": "markdown",
   "metadata": {},
   "source": [
    "One can perform count queries against the data."
   ]
  },
  {
   "cell_type": "code",
   "execution_count": 3,
   "metadata": {
    "scrolled": false
   },
   "outputs": [
    {
     "data": {
      "text/plain": [
       "50"
      ]
     },
     "execution_count": 3,
     "metadata": {},
     "output_type": "execute_result"
    }
   ],
   "source": [
    "f_array = np.array(df['Gender'] == 'F').astype(int)\n",
    "np.sum(f_array)"
   ]
  },
  {
   "cell_type": "markdown",
   "metadata": {},
   "source": [
    "And also perform count queries that employ a Laplacian mechanism to give differential privacy; $\\epsilon$ is the same $\\epsilon$ in the mathematical definition, and the bounds yield the sensitivity."
   ]
  },
  {
   "cell_type": "code",
   "execution_count": 4,
   "metadata": {
    "scrolled": true
   },
   "outputs": [
    {
     "data": {
      "text/plain": [
       "55.61868447476087"
      ]
     },
     "execution_count": 4,
     "metadata": {},
     "output_type": "execute_result"
    }
   ],
   "source": [
    "diffprivlib.tools.sum(f_array, epsilon=0.1, bounds=(0,1))"
   ]
  },
  {
   "cell_type": "markdown",
   "metadata": {},
   "source": [
    "### Privacy budget accounting\n",
    "\n",
    "The library has a BudgetAccountant class to keep track of how many queries one can make before the privacy budget is blown."
   ]
  },
  {
   "cell_type": "code",
   "execution_count": 5,
   "metadata": {
    "scrolled": true
   },
   "outputs": [
    {
     "name": "stdout",
     "output_type": "stream",
     "text": [
      "Total spent: (epsilon=0, delta=0.0)\n",
      "Remaining budget (for 1 query): (epsilon=0.25, delta=0.0)\n",
      "Number of queries recorded: 0\n",
      "SUM: 48.49475230557343\n",
      "Total spent: (epsilon=0.1, delta=0.0)\n",
      "Remaining budget (for 1 query): (epsilon=0.15000000000000002, delta=0.0)\n",
      "Number of queries recorded: 1\n",
      "SUM: 61.32975485873175\n",
      "Total spent: (epsilon=0.2, delta=0.0)\n",
      "Remaining budget (for 1 query): (epsilon=0.04999999999999999, delta=0.0)\n",
      "Number of queries recorded: 2\n"
     ]
    }
   ],
   "source": [
    "acc = diffprivlib.BudgetAccountant(epsilon=0.25, delta=0)\n",
    "print(\"Total spent: %r\" % (acc.total(),))\n",
    "print(\"Remaining budget (for 1 query): %r\" % (acc.remaining(),))\n",
    "print(\"Number of queries recorded: %d\" % len(acc))\n",
    "print(\"SUM: \"+str(diffprivlib.tools.sum(f_array, epsilon=0.1, bounds=(0,1), accountant=acc)))\n",
    "print(\"Total spent: %r\" % (acc.total(),))\n",
    "print(\"Remaining budget (for 1 query): %r\" % (acc.remaining(),))\n",
    "print(\"Number of queries recorded: %d\" % len(acc))\n",
    "print(\"SUM: \"+str(diffprivlib.tools.sum(f_array, epsilon=0.1, bounds=(0,1), accountant=acc)))\n",
    "print(\"Total spent: %r\" % (acc.total(),))\n",
    "print(\"Remaining budget (for 1 query): %r\" % (acc.remaining(),))\n",
    "print(\"Number of queries recorded: %d\" % len(acc))"
   ]
  },
  {
   "cell_type": "markdown",
   "metadata": {},
   "source": [
    "Going beyond the budget raises an Exception"
   ]
  },
  {
   "cell_type": "code",
   "execution_count": 6,
   "metadata": {},
   "outputs": [
    {
     "ename": "BudgetError",
     "evalue": "Privacy spend of (0.1,0) not permissible; will exceed remaining privacy budget. Use BudgetAccountant.remaining() to check remaining budget.",
     "output_type": "error",
     "traceback": [
      "\u001b[0;31m---------------------------------------------------------------------------\u001b[0m",
      "\u001b[0;31mBudgetError\u001b[0m                               Traceback (most recent call last)",
      "\u001b[0;32m<ipython-input-6-c97e02415e0e>\u001b[0m in \u001b[0;36m<module>\u001b[0;34m()\u001b[0m\n\u001b[0;32m----> 1\u001b[0;31m \u001b[0mprint\u001b[0m\u001b[0;34m(\u001b[0m\u001b[0;34m\"SUM: \"\u001b[0m\u001b[0;34m+\u001b[0m\u001b[0mstr\u001b[0m\u001b[0;34m(\u001b[0m\u001b[0mdiffprivlib\u001b[0m\u001b[0;34m.\u001b[0m\u001b[0mtools\u001b[0m\u001b[0;34m.\u001b[0m\u001b[0msum\u001b[0m\u001b[0;34m(\u001b[0m\u001b[0mf_array\u001b[0m\u001b[0;34m,\u001b[0m \u001b[0mepsilon\u001b[0m\u001b[0;34m=\u001b[0m\u001b[0;36m0.1\u001b[0m\u001b[0;34m,\u001b[0m \u001b[0mbounds\u001b[0m\u001b[0;34m=\u001b[0m\u001b[0;34m(\u001b[0m\u001b[0;36m0\u001b[0m\u001b[0;34m,\u001b[0m\u001b[0;36m1\u001b[0m\u001b[0;34m)\u001b[0m\u001b[0;34m,\u001b[0m \u001b[0maccountant\u001b[0m\u001b[0;34m=\u001b[0m\u001b[0macc\u001b[0m\u001b[0;34m)\u001b[0m\u001b[0;34m)\u001b[0m\u001b[0;34m)\u001b[0m\u001b[0;34m\u001b[0m\u001b[0;34m\u001b[0m\u001b[0m\n\u001b[0m",
      "\u001b[0;32m/home/jsnagi/anaconda3/envs/diff_privacy_play_env/lib/python3.7/site-packages/diffprivlib/tools/utils.py\u001b[0m in \u001b[0;36msum\u001b[0;34m(array, epsilon, bounds, accountant, axis, dtype, keepdims, **unused_args)\u001b[0m\n\u001b[1;32m    630\u001b[0m \u001b[0;34m\u001b[0m\u001b[0m\n\u001b[1;32m    631\u001b[0m     return _sum(array, epsilon=epsilon, bounds=bounds, accountant=accountant, axis=axis, dtype=dtype, keepdims=keepdims,\n\u001b[0;32m--> 632\u001b[0;31m                 nan=False)\n\u001b[0m\u001b[1;32m    633\u001b[0m \u001b[0;34m\u001b[0m\u001b[0m\n\u001b[1;32m    634\u001b[0m \u001b[0;34m\u001b[0m\u001b[0m\n",
      "\u001b[0;32m/home/jsnagi/anaconda3/envs/diff_privacy_play_env/lib/python3.7/site-packages/diffprivlib/tools/utils.py\u001b[0m in \u001b[0;36m_sum\u001b[0;34m(array, epsilon, bounds, accountant, axis, dtype, keepdims, nan)\u001b[0m\n\u001b[1;32m    693\u001b[0m \u001b[0;32mdef\u001b[0m \u001b[0m_sum\u001b[0m\u001b[0;34m(\u001b[0m\u001b[0marray\u001b[0m\u001b[0;34m,\u001b[0m \u001b[0mepsilon\u001b[0m\u001b[0;34m=\u001b[0m\u001b[0;36m1.0\u001b[0m\u001b[0;34m,\u001b[0m \u001b[0mbounds\u001b[0m\u001b[0;34m=\u001b[0m\u001b[0;32mNone\u001b[0m\u001b[0;34m,\u001b[0m \u001b[0maccountant\u001b[0m\u001b[0;34m=\u001b[0m\u001b[0;32mNone\u001b[0m\u001b[0;34m,\u001b[0m \u001b[0maxis\u001b[0m\u001b[0;34m=\u001b[0m\u001b[0;32mNone\u001b[0m\u001b[0;34m,\u001b[0m \u001b[0mdtype\u001b[0m\u001b[0;34m=\u001b[0m\u001b[0;32mNone\u001b[0m\u001b[0;34m,\u001b[0m \u001b[0mkeepdims\u001b[0m\u001b[0;34m=\u001b[0m\u001b[0mnp\u001b[0m\u001b[0;34m.\u001b[0m\u001b[0m_NoValue\u001b[0m\u001b[0;34m,\u001b[0m \u001b[0mnan\u001b[0m\u001b[0;34m=\u001b[0m\u001b[0;32mFalse\u001b[0m\u001b[0;34m)\u001b[0m\u001b[0;34m:\u001b[0m\u001b[0;34m\u001b[0m\u001b[0;34m\u001b[0m\u001b[0m\n\u001b[1;32m    694\u001b[0m     \u001b[0maccountant\u001b[0m \u001b[0;34m=\u001b[0m \u001b[0mBudgetAccountant\u001b[0m\u001b[0;34m.\u001b[0m\u001b[0mload_default\u001b[0m\u001b[0;34m(\u001b[0m\u001b[0maccountant\u001b[0m\u001b[0;34m)\u001b[0m\u001b[0;34m\u001b[0m\u001b[0;34m\u001b[0m\u001b[0m\n\u001b[0;32m--> 695\u001b[0;31m     \u001b[0maccountant\u001b[0m\u001b[0;34m.\u001b[0m\u001b[0mcheck\u001b[0m\u001b[0;34m(\u001b[0m\u001b[0mepsilon\u001b[0m\u001b[0;34m,\u001b[0m \u001b[0;36m0\u001b[0m\u001b[0;34m)\u001b[0m\u001b[0;34m\u001b[0m\u001b[0;34m\u001b[0m\u001b[0m\n\u001b[0m\u001b[1;32m    696\u001b[0m \u001b[0;34m\u001b[0m\u001b[0m\n\u001b[1;32m    697\u001b[0m     \u001b[0m_func\u001b[0m \u001b[0;34m=\u001b[0m \u001b[0mnp\u001b[0m\u001b[0;34m.\u001b[0m\u001b[0mnansum\u001b[0m \u001b[0;32mif\u001b[0m \u001b[0mnan\u001b[0m \u001b[0;32melse\u001b[0m \u001b[0mnp\u001b[0m\u001b[0;34m.\u001b[0m\u001b[0msum\u001b[0m\u001b[0;34m\u001b[0m\u001b[0;34m\u001b[0m\u001b[0m\n",
      "\u001b[0;32m/home/jsnagi/anaconda3/envs/diff_privacy_play_env/lib/python3.7/site-packages/diffprivlib/accountant.py\u001b[0m in \u001b[0;36mcheck\u001b[0;34m(self, epsilon, delta)\u001b[0m\n\u001b[1;32m    309\u001b[0m         raise BudgetError(\"Privacy spend of ({},{}) not permissible; will exceed remaining privacy budget. \"\n\u001b[1;32m    310\u001b[0m                           \"Use {}.{}() to check remaining budget.\".format(epsilon, delta, self.__class__.__name__,\n\u001b[0;32m--> 311\u001b[0;31m                                                                           self.remaining.__name__))\n\u001b[0m\u001b[1;32m    312\u001b[0m \u001b[0;34m\u001b[0m\u001b[0m\n\u001b[1;32m    313\u001b[0m     \u001b[0;32mdef\u001b[0m \u001b[0mremaining\u001b[0m\u001b[0;34m(\u001b[0m\u001b[0mself\u001b[0m\u001b[0;34m,\u001b[0m \u001b[0mk\u001b[0m\u001b[0;34m=\u001b[0m\u001b[0;36m1\u001b[0m\u001b[0;34m)\u001b[0m\u001b[0;34m:\u001b[0m\u001b[0;34m\u001b[0m\u001b[0;34m\u001b[0m\u001b[0m\n",
      "\u001b[0;31mBudgetError\u001b[0m: Privacy spend of (0.1,0) not permissible; will exceed remaining privacy budget. Use BudgetAccountant.remaining() to check remaining budget."
     ]
    }
   ],
   "source": [
    "print(\"SUM: \"+str(diffprivlib.tools.sum(f_array, epsilon=0.1, bounds=(0,1), accountant=acc)))"
   ]
  }
 ],
 "metadata": {
  "kernelspec": {
   "display_name": "Python 3",
   "language": "python",
   "name": "python3"
  },
  "language_info": {
   "codemirror_mode": {
    "name": "ipython",
    "version": 3
   },
   "file_extension": ".py",
   "mimetype": "text/x-python",
   "name": "python",
   "nbconvert_exporter": "python",
   "pygments_lexer": "ipython3",
   "version": "3.7.8"
  }
 },
 "nbformat": 4,
 "nbformat_minor": 4
}
